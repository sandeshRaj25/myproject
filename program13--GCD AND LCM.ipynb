{
 "cells": [
  {
   "cell_type": "code",
   "execution_count": 15,
   "id": "27f0c872-4239-4211-a9a5-dc4d78fba740",
   "metadata": {},
   "outputs": [
    {
     "name": "stdin",
     "output_type": "stream",
     "text": [
      "enter the first number 12\n",
      "enter thr second number 18\n"
     ]
    },
    {
     "name": "stdout",
     "output_type": "stream",
     "text": [
      "gcd of 12 and 18 is: 6\n",
      "lcm of 12 and 18 is: 36\n"
     ]
    }
   ],
   "source": [
    "# program to find GCD and LCM of two number \n",
    "\n",
    "def find_gcd(a,b):\n",
    "    while b:\n",
    "        a,b=b,a%b\n",
    "    return a\n",
    "\n",
    "# input two number \n",
    "\n",
    "num1=int(input(\"enter the first number\"))\n",
    "num2=int(input(\"enter thr second number\"))\n",
    "\n",
    "# find GCD\n",
    "\n",
    "gcd=find_gcd(num1,num2)\n",
    "\n",
    "# find LCM\n",
    "\n",
    "lcm=(num1*num2)//gcd\n",
    "\n",
    "print(f\"gcd of {num1} and {num2} is: {gcd}\")\n",
    "print(f\"lcm of {num1} and {num2} is: {lcm}\")"
   ]
  },
  {
   "cell_type": "code",
   "execution_count": 19,
   "id": "82cf54bf-6849-43f1-8f43-77418b837616",
   "metadata": {},
   "outputs": [
    {
     "name": "stdin",
     "output_type": "stream",
     "text": [
      "enter the first number 14\n",
      "enter thr second number 16\n"
     ]
    },
    {
     "name": "stdout",
     "output_type": "stream",
     "text": [
      "gcd of 14 and 16 is: 2\n",
      "lcm of 14 and 16 is: 112\n"
     ]
    }
   ],
   "source": [
    "# program to find GCD and LCM of two number \n",
    "\n",
    "def find_gcd(a,b):\n",
    "    while b:\n",
    "        a,b=b,a%b\n",
    "    return a\n",
    "\n",
    "# input two number \n",
    "\n",
    "num1=int(input(\"enter the first number\"))\n",
    "num2=int(input(\"enter thr second number\"))\n",
    "\n",
    "# find GCD\n",
    "\n",
    "gcd=find_gcd(num1,num2)\n",
    "\n",
    "# find LCM\n",
    "\n",
    "lcm=(num1*num2)//gcd\n",
    "\n",
    "print(f\"gcd of {num1} and {num2} is: {gcd}\")\n",
    "print(f\"lcm of {num1} and {num2} is: {lcm}\")"
   ]
  },
  {
   "cell_type": "code",
   "execution_count": null,
   "id": "2cd54456-01dc-4888-9a69-8399587da822",
   "metadata": {},
   "outputs": [],
   "source": []
  }
 ],
 "metadata": {
  "kernelspec": {
   "display_name": "Python 3 (ipykernel)",
   "language": "python",
   "name": "python3"
  },
  "language_info": {
   "codemirror_mode": {
    "name": "ipython",
    "version": 3
   },
   "file_extension": ".py",
   "mimetype": "text/x-python",
   "name": "python",
   "nbconvert_exporter": "python",
   "pygments_lexer": "ipython3",
   "version": "3.12.4"
  }
 },
 "nbformat": 4,
 "nbformat_minor": 5
}
