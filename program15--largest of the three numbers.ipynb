{
 "cells": [
  {
   "cell_type": "code",
   "execution_count": 7,
   "id": "b075a36e-6e73-49bb-ad3c-f787938c1439",
   "metadata": {},
   "outputs": [
    {
     "name": "stdin",
     "output_type": "stream",
     "text": [
      "enter the first number 1\n",
      "enter the second number 2\n",
      "enter the third number 3\n"
     ]
    },
    {
     "name": "stdout",
     "output_type": "stream",
     "text": [
      "the largest number is : 3.0\n"
     ]
    }
   ],
   "source": [
    "# python program to find the largest of three number\n",
    "\n",
    "# input:three numbers from the user\n",
    "\n",
    "num1=float(input(\"enter the first number\"))\n",
    "num2=float(input(\"enter the second number\"))\n",
    "num3=float(input(\"enter the third number\"))\n",
    "\n",
    "# comparing the three number using elif ladder\n",
    "\n",
    "if num1>=num2 and num1>=num3:\n",
    "    largest=num1\n",
    "\n",
    "elif num2>=num1 and num2>=num3:\n",
    "    largest=num2\n",
    "\n",
    "else:\n",
    "    largest=num3\n",
    "\n",
    "# output:the largest number\n",
    "\n",
    "print(\"the largest number is :\",largest)\n"
   ]
  },
  {
   "cell_type": "code",
   "execution_count": 9,
   "id": "d9a5b54d-4988-400b-80ad-392473b5593a",
   "metadata": {},
   "outputs": [
    {
     "name": "stdin",
     "output_type": "stream",
     "text": [
      "enter the first number 200\n",
      "enter the second number 300\n",
      "enter the third number 100\n"
     ]
    },
    {
     "name": "stdout",
     "output_type": "stream",
     "text": [
      "the largest number is : 300.0\n"
     ]
    }
   ],
   "source": [
    "# python program to find the largest of three number\n",
    "\n",
    "# input:three numbers from the user\n",
    "\n",
    "num1=float(input(\"enter the first number\"))\n",
    "num2=float(input(\"enter the second number\"))\n",
    "num3=float(input(\"enter the third number\"))\n",
    "\n",
    "# comparing the three number using elif ladder\n",
    "\n",
    "if num1>=num2 and num1>=num3:\n",
    "    largest=num1\n",
    "\n",
    "elif num2>=num1 and num2>=num3:\n",
    "    largest=num2\n",
    "\n",
    "else:\n",
    "    largest=num3\n",
    "\n",
    "# output:the largest number\n",
    "\n",
    "print(\"the largest number is :\",largest)\n"
   ]
  },
  {
   "cell_type": "code",
   "execution_count": null,
   "id": "8b014776-30ff-48ca-b129-ed4c969b43b4",
   "metadata": {},
   "outputs": [],
   "source": []
  }
 ],
 "metadata": {
  "kernelspec": {
   "display_name": "Python 3 (ipykernel)",
   "language": "python",
   "name": "python3"
  },
  "language_info": {
   "codemirror_mode": {
    "name": "ipython",
    "version": 3
   },
   "file_extension": ".py",
   "mimetype": "text/x-python",
   "name": "python",
   "nbconvert_exporter": "python",
   "pygments_lexer": "ipython3",
   "version": "3.12.4"
  }
 },
 "nbformat": 4,
 "nbformat_minor": 5
}
