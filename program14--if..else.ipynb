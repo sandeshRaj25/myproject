{
 "cells": [
  {
   "cell_type": "code",
   "execution_count": 1,
   "id": "03c52ae7-cbc2-4feb-95ed-14abf2d47cfc",
   "metadata": {},
   "outputs": [
    {
     "name": "stdout",
     "output_type": "stream",
     "text": [
      "you are eligible for voting\n"
     ]
    }
   ],
   "source": [
    "# program is to check wheather the person is eligible for voting\n",
    "\n",
    "age=19\n",
    "\n",
    "if age>18:\n",
    "\n",
    "    print('you are eligible for voting')"
   ]
  },
  {
   "cell_type": "markdown",
   "id": "f9f6b5c6-e04c-499f-8f65-8a4364cd6271",
   "metadata": {},
   "source": [
    "# if...else"
   ]
  },
  {
   "cell_type": "code",
   "execution_count": 4,
   "id": "4941c7c4-659c-44d1-a784-388e6a86e8e4",
   "metadata": {},
   "outputs": [],
   "source": [
    "# to check wheather the number is positve or negative"
   ]
  },
  {
   "cell_type": "code",
   "execution_count": 8,
   "id": "a3003a89-ae85-4dab-8754-e8b036fb65b8",
   "metadata": {},
   "outputs": [
    {
     "name": "stdin",
     "output_type": "stream",
     "text": [
      "give any random number 56\n"
     ]
    },
    {
     "name": "stdout",
     "output_type": "stream",
     "text": [
      "the given number is positive\n"
     ]
    }
   ],
   "source": [
    "number5=int(input('give any random number'))\n",
    "\n",
    "if number5>0:\n",
    "\n",
    "    print('the given number is positive')\n",
    "\n",
    "else:\n",
    "\n",
    "    print('the given number is negative')\n",
    "\n",
    "        "
   ]
  },
  {
   "cell_type": "code",
   "execution_count": null,
   "id": "1debd2b7-43bb-4ddb-ae07-08281999f7bf",
   "metadata": {},
   "outputs": [],
   "source": []
  },
  {
   "cell_type": "code",
   "execution_count": 10,
   "id": "96978263-f286-4a28-a1fe-e3d57d9c4551",
   "metadata": {},
   "outputs": [
    {
     "name": "stdin",
     "output_type": "stream",
     "text": [
      "give any random number -121\n"
     ]
    },
    {
     "name": "stdout",
     "output_type": "stream",
     "text": [
      "the given number is negative\n"
     ]
    }
   ],
   "source": [
    "number5=int(input('give any random number'))\n",
    "\n",
    "if number5>0:\n",
    "\n",
    "    print('the given number is positive')\n",
    "\n",
    "else:\n",
    "\n",
    "    print('the given number is negative')\n",
    "\n",
    "        "
   ]
  },
  {
   "cell_type": "code",
   "execution_count": null,
   "id": "9e02b4b0-ff97-453a-8245-09d0d17dbde8",
   "metadata": {},
   "outputs": [],
   "source": []
  }
 ],
 "metadata": {
  "kernelspec": {
   "display_name": "Python 3 (ipykernel)",
   "language": "python",
   "name": "python3"
  },
  "language_info": {
   "codemirror_mode": {
    "name": "ipython",
    "version": 3
   },
   "file_extension": ".py",
   "mimetype": "text/x-python",
   "name": "python",
   "nbconvert_exporter": "python",
   "pygments_lexer": "ipython3",
   "version": "3.12.4"
  }
 },
 "nbformat": 4,
 "nbformat_minor": 5
}
